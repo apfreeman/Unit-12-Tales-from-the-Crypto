{
 "cells": [
  {
   "cell_type": "markdown",
   "metadata": {},
   "source": [
    "# Unit 12 - Tales from the Crypto\n",
    "\n",
    "---\n"
   ]
  },
  {
   "cell_type": "markdown",
   "metadata": {},
   "source": [
    "## 1. Sentiment Analysis\n",
    "\n",
    "Use the [newsapi](https://newsapi.org/) to pull the latest news articles for Bitcoin and Ethereum and create a DataFrame of sentiment scores for each coin.\n",
    "\n",
    "Use descriptive statistics to answer the following questions:\n",
    "1. Which coin had the highest mean positive score?\n",
    "2. Which coin had the highest negative score?\n",
    "3. Which coin had the highest positive score?"
   ]
  },
  {
   "cell_type": "code",
   "execution_count": 1,
   "metadata": {},
   "outputs": [
    {
     "name": "stderr",
     "output_type": "stream",
     "text": [
      "[nltk_data] Downloading package vader_lexicon to\n",
      "[nltk_data]     C:\\Users\\AdamF\\AppData\\Roaming\\nltk_data...\n",
      "[nltk_data]   Package vader_lexicon is already up-to-date!\n"
     ]
    }
   ],
   "source": [
    "# Initial imports\n",
    "import os\n",
    "import pandas as pd\n",
    "import datetime as dt\n",
    "import nltk as nltk\n",
    "from dotenv import load_dotenv\n",
    "from datetime import datetime\n",
    "from newsapi import NewsApiClient\n",
    "from nltk.sentiment.vader import SentimentIntensityAnalyzer\n",
    "from collections import Counter\n",
    "from nltk import ngrams\n",
    "\n",
    "analyzer = SentimentIntensityAnalyzer()\n",
    "nltk.download('vader_lexicon')\n",
    "\n",
    "%matplotlib inline"
   ]
  },
  {
   "cell_type": "code",
   "execution_count": 2,
   "metadata": {},
   "outputs": [],
   "source": [
    "# Read your api key environment variable\n",
    "load_dotenv()\n",
    "api_key = os.getenv(\"NEWS_API_KEY\")\n"
   ]
  },
  {
   "cell_type": "code",
   "execution_count": 3,
   "metadata": {},
   "outputs": [],
   "source": [
    "# Create a newsapi client\n",
    "newsapi = NewsApiClient(api_key=api_key)\n"
   ]
  },
  {
   "cell_type": "code",
   "execution_count": 4,
   "metadata": {},
   "outputs": [
    {
     "name": "stdout",
     "output_type": "stream",
     "text": [
      "Total number of news articles featuring Bitcoin, bitcoin or BTC - 1719\n",
      "Sample news article featuring Bitcoin, bitcoin or BTC - {'source': {'id': None, 'name': 'StockNews.com'}, 'author': 'Subhasree Kar', 'title': 'Is Bitfarms a Good Crypto Mining Stock to Buy for 2022?', 'description': 'The shares of bitcoin self-mining company Bitfarms (BITF) have gained more than 150% in price over the past year, benefiting from bullish trends in the crypto space. However, the stock...', 'url': 'https://stocknews.com/news/bitf-forr-dfin-sc-is-bitfarms-a-good-crypto-mining-stock-to-buy-for/', 'urlToImage': 'https://assets.entrepreneur.com/providers/stocknews/hero-image-stocknews-411404.jpeg', 'publishedAt': '2022-01-04T14:58:48Z', 'content': 'The shares of bitcoin self-mining company Bitfarms (BITF) have gained more than 150% in price over the past year, benefiting from bullish trends in the crypto space. However, the stock traded in a do… [+5716 chars]'}\n"
     ]
    }
   ],
   "source": [
    "# Fetch the Bitcoin news articles\n",
    "en_bitcoin_articles = newsapi.get_everything(\n",
    "    q=\"Bitcoin AND bitcoin AND BTC\",\n",
    "    language=\"en\",\n",
    "    page_size=100,\n",
    "    sort_by=\"relevancy\"\n",
    ")\n",
    "\n",
    "# Check the total number of news articles featuring Bitcoin\n",
    "print(f\"Total number of news articles featuring Bitcoin, bitcoin or BTC - {en_bitcoin_articles['totalResults']}\")\n",
    "\n",
    "# Print the tenth Bitcoin news article as a sample for inspection\n",
    "print(f\"Sample news article featuring Bitcoin, bitcoin or BTC - {en_bitcoin_articles['articles'][9]}\")"
   ]
  },
  {
   "cell_type": "code",
   "execution_count": 5,
   "metadata": {},
   "outputs": [
    {
     "name": "stdout",
     "output_type": "stream",
     "text": [
      "Total number of news articles featuring Ethereum, ethereum or ETH - 815\n",
      "Sample news article featuring Ethereum, ethereum or ETH - {'source': {'id': 'time', 'name': 'Time'}, 'author': 'Andrew R. Chow', 'title': 'How Blockchain Could Solve the Problem of Digital Identity', 'description': 'When Vitalik Buterin, the founder of Ethereum, has been asked lately about his favorite projects being built on the blockchain, he often names Proof of Humanity.', 'url': 'https://time.com/6142810/proof-of-humanity/', 'urlToImage': 'https://api.time.com/wp-content/uploads/2022/01/IMG_3792.jpeg?quality=85&crop=0px%2C273px%2C1125px%2C588px&resize=1200%2C628&strip', 'publishedAt': '2022-01-27T09:39:28Z', 'content': 'A version of this article was published in TIME’s newsletter Into the Metaverse. Subscribe for a weekly guide to the future of the Internet.You can find past issues of the newsletter here.\\r\\nWhen Vita… [+9697 chars]'}\n"
     ]
    }
   ],
   "source": [
    "# Fetch the Ethereum news articles\n",
    "en_ethereum_articles = newsapi.get_everything(\n",
    "    q=\"Ethereum AND ethereum AND ETH\",\n",
    "    language='en',\n",
    "    page_size=100,\n",
    "    sort_by=\"relevancy\"\n",
    ")\n",
    "\n",
    "# Check the total number of news articles featuring Ethereum\n",
    "print(f\"Total number of news articles featuring Ethereum, ethereum or ETH - {en_ethereum_articles['totalResults']}\")\n",
    "\n",
    "# Print the tenth Ethereum news article as a sample for inspection\n",
    "print(f\"Sample news article featuring Ethereum, ethereum or ETH - {en_ethereum_articles['articles'][6]}\")"
   ]
  },
  {
   "cell_type": "code",
   "execution_count": 6,
   "metadata": {},
   "outputs": [
    {
     "data": {
      "text/html": [
       "<div>\n",
       "<style scoped>\n",
       "    .dataframe tbody tr th:only-of-type {\n",
       "        vertical-align: middle;\n",
       "    }\n",
       "\n",
       "    .dataframe tbody tr th {\n",
       "        vertical-align: top;\n",
       "    }\n",
       "\n",
       "    .dataframe thead th {\n",
       "        text-align: right;\n",
       "    }\n",
       "</style>\n",
       "<table border=\"1\" class=\"dataframe\">\n",
       "  <thead>\n",
       "    <tr style=\"text-align: right;\">\n",
       "      <th></th>\n",
       "      <th>Title</th>\n",
       "      <th>Text</th>\n",
       "      <th>Date</th>\n",
       "      <th>Compound</th>\n",
       "      <th>Positive</th>\n",
       "      <th>Negative</th>\n",
       "      <th>Neutral</th>\n",
       "    </tr>\n",
       "  </thead>\n",
       "  <tbody>\n",
       "    <tr>\n",
       "      <th>0</th>\n",
       "      <td>Crypto.com admits over $30 million stolen by h...</td>\n",
       "      <td>in a new blog post the company said that 4,836...</td>\n",
       "      <td>2022-01-20</td>\n",
       "      <td>0.0000</td>\n",
       "      <td>0.000</td>\n",
       "      <td>0.000</td>\n",
       "      <td>1.000</td>\n",
       "    </tr>\n",
       "    <tr>\n",
       "      <th>1</th>\n",
       "      <td>Bitcoin slumps to lowest since September - Reu...</td>\n",
       "      <td>london, jan 7 (reuters) - bitcoin on friday sl...</td>\n",
       "      <td>2022-01-07</td>\n",
       "      <td>-0.3818</td>\n",
       "      <td>0.000</td>\n",
       "      <td>0.077</td>\n",
       "      <td>0.923</td>\n",
       "    </tr>\n",
       "    <tr>\n",
       "      <th>2</th>\n",
       "      <td>BUZZ Crypto stocks slip as bitcoin briefly sli...</td>\n",
       "      <td>** shares of cryptocurrency and blockchain-rel...</td>\n",
       "      <td>2022-01-10</td>\n",
       "      <td>0.3818</td>\n",
       "      <td>0.128</td>\n",
       "      <td>0.057</td>\n",
       "      <td>0.815</td>\n",
       "    </tr>\n",
       "    <tr>\n",
       "      <th>3</th>\n",
       "      <td>Crypto investors buy the dip as Bitcoin falls ...</td>\n",
       "      <td>welcome to kitco news' 2022 outlook series. th...</td>\n",
       "      <td>2022-01-10</td>\n",
       "      <td>0.1531</td>\n",
       "      <td>0.076</td>\n",
       "      <td>0.061</td>\n",
       "      <td>0.863</td>\n",
       "    </tr>\n",
       "    <tr>\n",
       "      <th>4</th>\n",
       "      <td>Bitcoin death cross is staring down bulls afte...</td>\n",
       "      <td>after one of roughest patches ever for bitcoin...</td>\n",
       "      <td>2022-01-11</td>\n",
       "      <td>-0.5563</td>\n",
       "      <td>0.063</td>\n",
       "      <td>0.156</td>\n",
       "      <td>0.781</td>\n",
       "    </tr>\n",
       "  </tbody>\n",
       "</table>\n",
       "</div>"
      ],
      "text/plain": [
       "                                               Title  \\\n",
       "0  Crypto.com admits over $30 million stolen by h...   \n",
       "1  Bitcoin slumps to lowest since September - Reu...   \n",
       "2  BUZZ Crypto stocks slip as bitcoin briefly sli...   \n",
       "3  Crypto investors buy the dip as Bitcoin falls ...   \n",
       "4  Bitcoin death cross is staring down bulls afte...   \n",
       "\n",
       "                                                Text        Date  Compound  \\\n",
       "0  in a new blog post the company said that 4,836...  2022-01-20    0.0000   \n",
       "1  london, jan 7 (reuters) - bitcoin on friday sl...  2022-01-07   -0.3818   \n",
       "2  ** shares of cryptocurrency and blockchain-rel...  2022-01-10    0.3818   \n",
       "3  welcome to kitco news' 2022 outlook series. th...  2022-01-10    0.1531   \n",
       "4  after one of roughest patches ever for bitcoin...  2022-01-11   -0.5563   \n",
       "\n",
       "   Positive  Negative  Neutral  \n",
       "0     0.000     0.000    1.000  \n",
       "1     0.000     0.077    0.923  \n",
       "2     0.128     0.057    0.815  \n",
       "3     0.076     0.061    0.863  \n",
       "4     0.063     0.156    0.781  "
      ]
     },
     "execution_count": 6,
     "metadata": {},
     "output_type": "execute_result"
    }
   ],
   "source": [
    "# Create the Bitcoin sentiment scores DataFrame\n",
    "# Create empty list to populate with article details and sentiment scores\n",
    "bitcoin_sentiments = []\n",
    "\n",
    "# Get required details from articles response returned by api \n",
    "for article in en_bitcoin_articles[\"articles\"]:\n",
    "    try:\n",
    "        text = article[\"content\"].lower()\n",
    "        title = article[\"title\"]\n",
    "        date = article[\"publishedAt\"][:10]\n",
    "        sentiment = analyzer.polarity_scores(text)\n",
    "        compound = sentiment[\"compound\"]\n",
    "        pos = sentiment[\"pos\"]\n",
    "        neu = sentiment[\"neu\"]\n",
    "        neg = sentiment[\"neg\"]\n",
    "        \n",
    "        # Add article details as dicts to bitcoin_sentiments list\n",
    "        bitcoin_sentiments.append({\n",
    "            \"Title\": title,\n",
    "            \"Text\": text,\n",
    "            \"Date\": date,\n",
    "            \"Compound\": compound,\n",
    "            \"Positive\": pos,\n",
    "            \"Negative\": neg,\n",
    "            \"Neutral\": neu,\n",
    "            \n",
    "        })\n",
    "        \n",
    "    except AttributeError:\n",
    "        pass\n",
    "    \n",
    "# Create Bitcoin Sentiments DataFrame from the bitcoin_sentiments list of dicts\n",
    "bitcoin_df = pd.DataFrame(bitcoin_sentiments)\n",
    "\n",
    "# Inspect the DataFrame\n",
    "bitcoin_df.head()"
   ]
  },
  {
   "cell_type": "code",
   "execution_count": 7,
   "metadata": {},
   "outputs": [
    {
     "data": {
      "text/html": [
       "<div>\n",
       "<style scoped>\n",
       "    .dataframe tbody tr th:only-of-type {\n",
       "        vertical-align: middle;\n",
       "    }\n",
       "\n",
       "    .dataframe tbody tr th {\n",
       "        vertical-align: top;\n",
       "    }\n",
       "\n",
       "    .dataframe thead th {\n",
       "        text-align: right;\n",
       "    }\n",
       "</style>\n",
       "<table border=\"1\" class=\"dataframe\">\n",
       "  <thead>\n",
       "    <tr style=\"text-align: right;\">\n",
       "      <th></th>\n",
       "      <th>Text</th>\n",
       "      <th>Title Ehterum</th>\n",
       "      <th>Date</th>\n",
       "      <th>Compound</th>\n",
       "      <th>Positive</th>\n",
       "      <th>Negative</th>\n",
       "      <th>Neutral</th>\n",
       "      <th>Title</th>\n",
       "    </tr>\n",
       "  </thead>\n",
       "  <tbody>\n",
       "    <tr>\n",
       "      <th>0</th>\n",
       "      <td>in a new blog post the company said that 4,836...</td>\n",
       "      <td>Crypto.com admits over $30 million stolen by h...</td>\n",
       "      <td>2022-01-20</td>\n",
       "      <td>0.0000</td>\n",
       "      <td>0.000</td>\n",
       "      <td>0.000</td>\n",
       "      <td>1.000</td>\n",
       "      <td>Crypto.com admits over $30 million stolen by h...</td>\n",
       "    </tr>\n",
       "    <tr>\n",
       "      <th>1</th>\n",
       "      <td>in an interview with bloomberg tv, crypto.com'...</td>\n",
       "      <td>Crypto.com loses $34 million in hack that affe...</td>\n",
       "      <td>2022-01-20</td>\n",
       "      <td>0.1027</td>\n",
       "      <td>0.046</td>\n",
       "      <td>0.000</td>\n",
       "      <td>0.954</td>\n",
       "      <td>Crypto.com loses $34 million in hack that affe...</td>\n",
       "    </tr>\n",
       "    <tr>\n",
       "      <th>2</th>\n",
       "      <td>online thieves made off with \"wrapped ethereum...</td>\n",
       "      <td>Blockchain platform Wormhole says it's retriev...</td>\n",
       "      <td>2022-02-03</td>\n",
       "      <td>0.1027</td>\n",
       "      <td>0.131</td>\n",
       "      <td>0.092</td>\n",
       "      <td>0.778</td>\n",
       "      <td>Blockchain platform Wormhole says it's retriev...</td>\n",
       "    </tr>\n",
       "    <tr>\n",
       "      <th>3</th>\n",
       "      <td>online thieves made off with 120,000 weth, or ...</td>\n",
       "      <td>Hacker steals over $320M from blockchain platf...</td>\n",
       "      <td>2022-02-03</td>\n",
       "      <td>-0.6808</td>\n",
       "      <td>0.051</td>\n",
       "      <td>0.174</td>\n",
       "      <td>0.775</td>\n",
       "      <td>Hacker steals over $320M from blockchain platf...</td>\n",
       "    </tr>\n",
       "    <tr>\n",
       "      <th>4</th>\n",
       "      <td>the crypto market's whiplash volatility can ma...</td>\n",
       "      <td>Crypto Exchange Shuts Down Withdrawals After H...</td>\n",
       "      <td>2022-01-19</td>\n",
       "      <td>0.5574</td>\n",
       "      <td>0.129</td>\n",
       "      <td>0.000</td>\n",
       "      <td>0.871</td>\n",
       "      <td>Crypto Exchange Shuts Down Withdrawals After H...</td>\n",
       "    </tr>\n",
       "  </tbody>\n",
       "</table>\n",
       "</div>"
      ],
      "text/plain": [
       "                                                Text  \\\n",
       "0  in a new blog post the company said that 4,836...   \n",
       "1  in an interview with bloomberg tv, crypto.com'...   \n",
       "2  online thieves made off with \"wrapped ethereum...   \n",
       "3  online thieves made off with 120,000 weth, or ...   \n",
       "4  the crypto market's whiplash volatility can ma...   \n",
       "\n",
       "                                       Title Ehterum        Date  Compound  \\\n",
       "0  Crypto.com admits over $30 million stolen by h...  2022-01-20    0.0000   \n",
       "1  Crypto.com loses $34 million in hack that affe...  2022-01-20    0.1027   \n",
       "2  Blockchain platform Wormhole says it's retriev...  2022-02-03    0.1027   \n",
       "3  Hacker steals over $320M from blockchain platf...  2022-02-03   -0.6808   \n",
       "4  Crypto Exchange Shuts Down Withdrawals After H...  2022-01-19    0.5574   \n",
       "\n",
       "   Positive  Negative  Neutral  \\\n",
       "0     0.000     0.000    1.000   \n",
       "1     0.046     0.000    0.954   \n",
       "2     0.131     0.092    0.778   \n",
       "3     0.051     0.174    0.775   \n",
       "4     0.129     0.000    0.871   \n",
       "\n",
       "                                               Title  \n",
       "0  Crypto.com admits over $30 million stolen by h...  \n",
       "1  Crypto.com loses $34 million in hack that affe...  \n",
       "2  Blockchain platform Wormhole says it's retriev...  \n",
       "3  Hacker steals over $320M from blockchain platf...  \n",
       "4  Crypto Exchange Shuts Down Withdrawals After H...  "
      ]
     },
     "execution_count": 7,
     "metadata": {},
     "output_type": "execute_result"
    }
   ],
   "source": [
    "# Create the Ethereum sentiment scores DataFrame\n",
    "# Create empty list to populate with article details and sentiment scores\n",
    "ethereum_sentiments = []\n",
    "\n",
    "# Get required details from articles response returned by api \n",
    "for article in en_ethereum_articles[\"articles\"]:\n",
    "    try:\n",
    "        text = article[\"content\"].lower()\n",
    "        title = article[\"title\"]\n",
    "        date = article[\"publishedAt\"][:10]\n",
    "        sentiment = analyzer.polarity_scores(text)\n",
    "        compound = sentiment[\"compound\"]\n",
    "        pos = sentiment[\"pos\"]\n",
    "        neu = sentiment[\"neu\"]\n",
    "        neg = sentiment[\"neg\"]\n",
    "        \n",
    "        # Add article details as dicts to ethereum_sentiments list\n",
    "        ethereum_sentiments.append({\n",
    "            \"Text\": text,\n",
    "            \"Title Ehterum\": title,\n",
    "            \"Date\": date,\n",
    "            \"Compound\": compound,\n",
    "            \"Positive\": pos,\n",
    "            \"Negative\": neg,\n",
    "            \"Neutral\": neu,\n",
    "            \"Title\": title,\n",
    "        })\n",
    "        \n",
    "    except AttributeError:\n",
    "        pass\n",
    "    \n",
    "# Create Ethereum Sentiments DataFrame from the bitcoin_sentiments list of dicts\n",
    "ethereum_df = pd.DataFrame(ethereum_sentiments)\n",
    "\n",
    "# Inspect the DataFrame\n",
    "ethereum_df.head()"
   ]
  },
  {
   "cell_type": "code",
   "execution_count": 8,
   "metadata": {},
   "outputs": [
    {
     "data": {
      "text/html": [
       "<div>\n",
       "<style scoped>\n",
       "    .dataframe tbody tr th:only-of-type {\n",
       "        vertical-align: middle;\n",
       "    }\n",
       "\n",
       "    .dataframe tbody tr th {\n",
       "        vertical-align: top;\n",
       "    }\n",
       "\n",
       "    .dataframe thead th {\n",
       "        text-align: right;\n",
       "    }\n",
       "</style>\n",
       "<table border=\"1\" class=\"dataframe\">\n",
       "  <thead>\n",
       "    <tr style=\"text-align: right;\">\n",
       "      <th></th>\n",
       "      <th>Compound</th>\n",
       "      <th>Positive</th>\n",
       "      <th>Negative</th>\n",
       "      <th>Neutral</th>\n",
       "    </tr>\n",
       "  </thead>\n",
       "  <tbody>\n",
       "    <tr>\n",
       "      <th>count</th>\n",
       "      <td>100.000000</td>\n",
       "      <td>100.000000</td>\n",
       "      <td>100.000000</td>\n",
       "      <td>100.000000</td>\n",
       "    </tr>\n",
       "    <tr>\n",
       "      <th>mean</th>\n",
       "      <td>0.050639</td>\n",
       "      <td>0.058330</td>\n",
       "      <td>0.044990</td>\n",
       "      <td>0.896690</td>\n",
       "    </tr>\n",
       "    <tr>\n",
       "      <th>std</th>\n",
       "      <td>0.407468</td>\n",
       "      <td>0.063321</td>\n",
       "      <td>0.056508</td>\n",
       "      <td>0.075608</td>\n",
       "    </tr>\n",
       "    <tr>\n",
       "      <th>min</th>\n",
       "      <td>-0.802000</td>\n",
       "      <td>0.000000</td>\n",
       "      <td>0.000000</td>\n",
       "      <td>0.712000</td>\n",
       "    </tr>\n",
       "    <tr>\n",
       "      <th>25%</th>\n",
       "      <td>-0.273200</td>\n",
       "      <td>0.000000</td>\n",
       "      <td>0.000000</td>\n",
       "      <td>0.847750</td>\n",
       "    </tr>\n",
       "    <tr>\n",
       "      <th>50%</th>\n",
       "      <td>0.000000</td>\n",
       "      <td>0.058000</td>\n",
       "      <td>0.000000</td>\n",
       "      <td>0.906500</td>\n",
       "    </tr>\n",
       "    <tr>\n",
       "      <th>75%</th>\n",
       "      <td>0.366350</td>\n",
       "      <td>0.101500</td>\n",
       "      <td>0.086000</td>\n",
       "      <td>0.945250</td>\n",
       "    </tr>\n",
       "    <tr>\n",
       "      <th>max</th>\n",
       "      <td>0.835700</td>\n",
       "      <td>0.233000</td>\n",
       "      <td>0.204000</td>\n",
       "      <td>1.000000</td>\n",
       "    </tr>\n",
       "  </tbody>\n",
       "</table>\n",
       "</div>"
      ],
      "text/plain": [
       "         Compound    Positive    Negative     Neutral\n",
       "count  100.000000  100.000000  100.000000  100.000000\n",
       "mean     0.050639    0.058330    0.044990    0.896690\n",
       "std      0.407468    0.063321    0.056508    0.075608\n",
       "min     -0.802000    0.000000    0.000000    0.712000\n",
       "25%     -0.273200    0.000000    0.000000    0.847750\n",
       "50%      0.000000    0.058000    0.000000    0.906500\n",
       "75%      0.366350    0.101500    0.086000    0.945250\n",
       "max      0.835700    0.233000    0.204000    1.000000"
      ]
     },
     "execution_count": 8,
     "metadata": {},
     "output_type": "execute_result"
    }
   ],
   "source": [
    "# Describe the Bitcoin Sentiment\n",
    "bitcoin_df.describe()"
   ]
  },
  {
   "cell_type": "code",
   "execution_count": 9,
   "metadata": {},
   "outputs": [
    {
     "data": {
      "text/html": [
       "<div>\n",
       "<style scoped>\n",
       "    .dataframe tbody tr th:only-of-type {\n",
       "        vertical-align: middle;\n",
       "    }\n",
       "\n",
       "    .dataframe tbody tr th {\n",
       "        vertical-align: top;\n",
       "    }\n",
       "\n",
       "    .dataframe thead th {\n",
       "        text-align: right;\n",
       "    }\n",
       "</style>\n",
       "<table border=\"1\" class=\"dataframe\">\n",
       "  <thead>\n",
       "    <tr style=\"text-align: right;\">\n",
       "      <th></th>\n",
       "      <th>Compound</th>\n",
       "      <th>Positive</th>\n",
       "      <th>Negative</th>\n",
       "      <th>Neutral</th>\n",
       "    </tr>\n",
       "  </thead>\n",
       "  <tbody>\n",
       "    <tr>\n",
       "      <th>count</th>\n",
       "      <td>100.000000</td>\n",
       "      <td>100.000000</td>\n",
       "      <td>100.00000</td>\n",
       "      <td>100.000000</td>\n",
       "    </tr>\n",
       "    <tr>\n",
       "      <th>mean</th>\n",
       "      <td>0.137444</td>\n",
       "      <td>0.084530</td>\n",
       "      <td>0.05176</td>\n",
       "      <td>0.863700</td>\n",
       "    </tr>\n",
       "    <tr>\n",
       "      <th>std</th>\n",
       "      <td>0.446240</td>\n",
       "      <td>0.067785</td>\n",
       "      <td>0.06993</td>\n",
       "      <td>0.090609</td>\n",
       "    </tr>\n",
       "    <tr>\n",
       "      <th>min</th>\n",
       "      <td>-0.868900</td>\n",
       "      <td>0.000000</td>\n",
       "      <td>0.00000</td>\n",
       "      <td>0.596000</td>\n",
       "    </tr>\n",
       "    <tr>\n",
       "      <th>25%</th>\n",
       "      <td>-0.052050</td>\n",
       "      <td>0.000000</td>\n",
       "      <td>0.00000</td>\n",
       "      <td>0.802500</td>\n",
       "    </tr>\n",
       "    <tr>\n",
       "      <th>50%</th>\n",
       "      <td>0.202300</td>\n",
       "      <td>0.079500</td>\n",
       "      <td>0.00000</td>\n",
       "      <td>0.865500</td>\n",
       "    </tr>\n",
       "    <tr>\n",
       "      <th>75%</th>\n",
       "      <td>0.476700</td>\n",
       "      <td>0.131000</td>\n",
       "      <td>0.09375</td>\n",
       "      <td>0.932000</td>\n",
       "    </tr>\n",
       "    <tr>\n",
       "      <th>max</th>\n",
       "      <td>0.796400</td>\n",
       "      <td>0.309000</td>\n",
       "      <td>0.25700</td>\n",
       "      <td>1.000000</td>\n",
       "    </tr>\n",
       "  </tbody>\n",
       "</table>\n",
       "</div>"
      ],
      "text/plain": [
       "         Compound    Positive   Negative     Neutral\n",
       "count  100.000000  100.000000  100.00000  100.000000\n",
       "mean     0.137444    0.084530    0.05176    0.863700\n",
       "std      0.446240    0.067785    0.06993    0.090609\n",
       "min     -0.868900    0.000000    0.00000    0.596000\n",
       "25%     -0.052050    0.000000    0.00000    0.802500\n",
       "50%      0.202300    0.079500    0.00000    0.865500\n",
       "75%      0.476700    0.131000    0.09375    0.932000\n",
       "max      0.796400    0.309000    0.25700    1.000000"
      ]
     },
     "execution_count": 9,
     "metadata": {},
     "output_type": "execute_result"
    }
   ],
   "source": [
    "# Describe the Ethereum Sentiment\n",
    "ethereum_df.describe()"
   ]
  },
  {
   "cell_type": "markdown",
   "metadata": {},
   "source": [
    "### Questions:\n",
    "\n",
    "Q: Which coin had the highest mean positive score?\n",
    "\n",
    "A: The analysis demonstrates that Ethereum has the highest mean positive score. \n",
    "\n",
    "Q: Which coin had the highest compound score?\n",
    "\n",
    "A: The analysis demonstrates that Ethereum has the highest compound score. \n",
    "\n",
    "Q. Which coin had the highest positive score?\n",
    "\n",
    "A: The analysis demonstrates that Ethereum has the highest positive score. "
   ]
  },
  {
   "cell_type": "markdown",
   "metadata": {},
   "source": [
    "---"
   ]
  },
  {
   "cell_type": "markdown",
   "metadata": {},
   "source": [
    "## 2. Natural Language Processing\n",
    "---\n",
    "###   Tokenizer\n",
    "\n",
    "In this section, you will use NLTK and Python to tokenize the text for each coin. Be sure to:\n",
    "1. Lowercase each word.\n",
    "2. Remove Punctuation.\n",
    "3. Remove Stopwords."
   ]
  },
  {
   "cell_type": "code",
   "execution_count": 10,
   "metadata": {},
   "outputs": [],
   "source": [
    "from nltk.tokenize import word_tokenize, sent_tokenize\n",
    "from nltk.corpus import stopwords\n",
    "from nltk.stem import WordNetLemmatizer, PorterStemmer\n",
    "from string import punctuation\n",
    "import re"
   ]
  },
  {
   "cell_type": "code",
   "execution_count": 11,
   "metadata": {},
   "outputs": [],
   "source": [
    "# Instantiate the lemmatizer\n",
    "lemmatizer = WordNetLemmatizer()\n",
    "\n",
    "# Create a list of stopwords\n",
    "sw = set(stopwords.words('english'))\n",
    "\n",
    "# Expand the default stopwords list if necessary\n",
    "sw_addon = {'urlToImage','url','char','ha'}"
   ]
  },
  {
   "cell_type": "code",
   "execution_count": 12,
   "metadata": {},
   "outputs": [],
   "source": [
    " # Complete the tokenizer function\n",
    "def tokenizer(text):\n",
    "    \"\"\"Tokenizes text.\"\"\"\n",
    "    \n",
    "    # Remove the punctuation from text\n",
    "    regex = re.compile(\"[^a-zA-Z ]\")\n",
    "    re_clean = regex.sub('', text)\n",
    "   \n",
    "    # Create a tokenized list of the words\n",
    "    words = word_tokenize(re_clean)\n",
    "    \n",
    "    # Lemmatize words into root words\n",
    "    lemmatizer = WordNetLemmatizer() \n",
    "    lem = [lemmatizer.lemmatize(word) for word in words]\n",
    "    \n",
    "    # Remove the stop words and convert the words to lowercase\n",
    "    tokens = [word.lower() for word in lem if word.lower() not in sw.union(sw_addon)]\n",
    "    \n",
    "    return tokens"
   ]
  },
  {
   "cell_type": "code",
   "execution_count": 13,
   "metadata": {},
   "outputs": [
    {
     "data": {
      "text/html": [
       "<div>\n",
       "<style scoped>\n",
       "    .dataframe tbody tr th:only-of-type {\n",
       "        vertical-align: middle;\n",
       "    }\n",
       "\n",
       "    .dataframe tbody tr th {\n",
       "        vertical-align: top;\n",
       "    }\n",
       "\n",
       "    .dataframe thead th {\n",
       "        text-align: right;\n",
       "    }\n",
       "</style>\n",
       "<table border=\"1\" class=\"dataframe\">\n",
       "  <thead>\n",
       "    <tr style=\"text-align: right;\">\n",
       "      <th></th>\n",
       "      <th>Title</th>\n",
       "      <th>Text</th>\n",
       "      <th>Date</th>\n",
       "      <th>Compound</th>\n",
       "      <th>Positive</th>\n",
       "      <th>Negative</th>\n",
       "      <th>Neutral</th>\n",
       "      <th>Tokens</th>\n",
       "    </tr>\n",
       "  </thead>\n",
       "  <tbody>\n",
       "    <tr>\n",
       "      <th>0</th>\n",
       "      <td>Crypto.com admits over $30 million stolen by h...</td>\n",
       "      <td>in a new blog post the company said that 4,836...</td>\n",
       "      <td>2022-01-20</td>\n",
       "      <td>0.0000</td>\n",
       "      <td>0.000</td>\n",
       "      <td>0.000</td>\n",
       "      <td>1.000</td>\n",
       "      <td>[new, blog, post, company, said, eth, bitcoin,...</td>\n",
       "    </tr>\n",
       "    <tr>\n",
       "      <th>1</th>\n",
       "      <td>Bitcoin slumps to lowest since September - Reu...</td>\n",
       "      <td>london, jan 7 (reuters) - bitcoin on friday sl...</td>\n",
       "      <td>2022-01-07</td>\n",
       "      <td>-0.3818</td>\n",
       "      <td>0.000</td>\n",
       "      <td>0.077</td>\n",
       "      <td>0.923</td>\n",
       "      <td>[london, jan, reuters, bitcoin, friday, slumpe...</td>\n",
       "    </tr>\n",
       "    <tr>\n",
       "      <th>2</th>\n",
       "      <td>BUZZ Crypto stocks slip as bitcoin briefly sli...</td>\n",
       "      <td>** shares of cryptocurrency and blockchain-rel...</td>\n",
       "      <td>2022-01-10</td>\n",
       "      <td>0.3818</td>\n",
       "      <td>0.128</td>\n",
       "      <td>0.057</td>\n",
       "      <td>0.815</td>\n",
       "      <td>[share, cryptocurrency, blockchainrelated, fir...</td>\n",
       "    </tr>\n",
       "    <tr>\n",
       "      <th>3</th>\n",
       "      <td>Crypto investors buy the dip as Bitcoin falls ...</td>\n",
       "      <td>welcome to kitco news' 2022 outlook series. th...</td>\n",
       "      <td>2022-01-10</td>\n",
       "      <td>0.1531</td>\n",
       "      <td>0.076</td>\n",
       "      <td>0.061</td>\n",
       "      <td>0.863</td>\n",
       "      <td>[welcome, kitco, news, outlook, series, new, y...</td>\n",
       "    </tr>\n",
       "    <tr>\n",
       "      <th>4</th>\n",
       "      <td>Bitcoin death cross is staring down bulls afte...</td>\n",
       "      <td>after one of roughest patches ever for bitcoin...</td>\n",
       "      <td>2022-01-11</td>\n",
       "      <td>-0.5563</td>\n",
       "      <td>0.063</td>\n",
       "      <td>0.156</td>\n",
       "      <td>0.781</td>\n",
       "      <td>[one, roughest, patch, ever, bitcoin, enthusia...</td>\n",
       "    </tr>\n",
       "  </tbody>\n",
       "</table>\n",
       "</div>"
      ],
      "text/plain": [
       "                                               Title  \\\n",
       "0  Crypto.com admits over $30 million stolen by h...   \n",
       "1  Bitcoin slumps to lowest since September - Reu...   \n",
       "2  BUZZ Crypto stocks slip as bitcoin briefly sli...   \n",
       "3  Crypto investors buy the dip as Bitcoin falls ...   \n",
       "4  Bitcoin death cross is staring down bulls afte...   \n",
       "\n",
       "                                                Text        Date  Compound  \\\n",
       "0  in a new blog post the company said that 4,836...  2022-01-20    0.0000   \n",
       "1  london, jan 7 (reuters) - bitcoin on friday sl...  2022-01-07   -0.3818   \n",
       "2  ** shares of cryptocurrency and blockchain-rel...  2022-01-10    0.3818   \n",
       "3  welcome to kitco news' 2022 outlook series. th...  2022-01-10    0.1531   \n",
       "4  after one of roughest patches ever for bitcoin...  2022-01-11   -0.5563   \n",
       "\n",
       "   Positive  Negative  Neutral  \\\n",
       "0     0.000     0.000    1.000   \n",
       "1     0.000     0.077    0.923   \n",
       "2     0.128     0.057    0.815   \n",
       "3     0.076     0.061    0.863   \n",
       "4     0.063     0.156    0.781   \n",
       "\n",
       "                                              Tokens  \n",
       "0  [new, blog, post, company, said, eth, bitcoin,...  \n",
       "1  [london, jan, reuters, bitcoin, friday, slumpe...  \n",
       "2  [share, cryptocurrency, blockchainrelated, fir...  \n",
       "3  [welcome, kitco, news, outlook, series, new, y...  \n",
       "4  [one, roughest, patch, ever, bitcoin, enthusia...  "
      ]
     },
     "execution_count": 13,
     "metadata": {},
     "output_type": "execute_result"
    }
   ],
   "source": [
    "# Create a new tokens column for bitcoin\n",
    "# Copy the Bitcoin DF ready to add Tokens new column\n",
    "bitcoin_tokens_df = bitcoin_df.copy()\n",
    "\n",
    "# Create empty tokenized list\n",
    "tokenized = []\n",
    "\n",
    "# Tokenize the \"Text\" column for each row of the DataFrame\n",
    "for article in bitcoin_tokens_df['Text']:\n",
    "    # Use the tokenizer function to tokenize the article\n",
    "    tokenized_articles = tokenizer(article)\n",
    "    # Append all tokens to the tokenized list of dicts\n",
    "    tokenized.append({'tokens':tokenized_articles})\n",
    "\n",
    "# Create DataFrame of tokens for each article\n",
    "tokens_df= pd.DataFrame(tokenized)\n",
    "\n",
    "# Combine the Tokens dataframe with the original\n",
    "bitcoin_tokens_df['Tokens'] = tokens_df\n",
    "\n",
    "# Inspect the DataFrame\n",
    "bitcoin_tokens_df.head()"
   ]
  },
  {
   "cell_type": "code",
   "execution_count": 14,
   "metadata": {},
   "outputs": [
    {
     "data": {
      "text/html": [
       "<div>\n",
       "<style scoped>\n",
       "    .dataframe tbody tr th:only-of-type {\n",
       "        vertical-align: middle;\n",
       "    }\n",
       "\n",
       "    .dataframe tbody tr th {\n",
       "        vertical-align: top;\n",
       "    }\n",
       "\n",
       "    .dataframe thead th {\n",
       "        text-align: right;\n",
       "    }\n",
       "</style>\n",
       "<table border=\"1\" class=\"dataframe\">\n",
       "  <thead>\n",
       "    <tr style=\"text-align: right;\">\n",
       "      <th></th>\n",
       "      <th>Text</th>\n",
       "      <th>Title Ehterum</th>\n",
       "      <th>Date</th>\n",
       "      <th>Compound</th>\n",
       "      <th>Positive</th>\n",
       "      <th>Negative</th>\n",
       "      <th>Neutral</th>\n",
       "      <th>Title</th>\n",
       "      <th>Tokens</th>\n",
       "    </tr>\n",
       "  </thead>\n",
       "  <tbody>\n",
       "    <tr>\n",
       "      <th>0</th>\n",
       "      <td>in a new blog post the company said that 4,836...</td>\n",
       "      <td>Crypto.com admits over $30 million stolen by h...</td>\n",
       "      <td>2022-01-20</td>\n",
       "      <td>0.0000</td>\n",
       "      <td>0.000</td>\n",
       "      <td>0.000</td>\n",
       "      <td>1.000</td>\n",
       "      <td>Crypto.com admits over $30 million stolen by h...</td>\n",
       "      <td>[new, blog, post, company, said, eth, bitcoin,...</td>\n",
       "    </tr>\n",
       "    <tr>\n",
       "      <th>1</th>\n",
       "      <td>in an interview with bloomberg tv, crypto.com'...</td>\n",
       "      <td>Crypto.com loses $34 million in hack that affe...</td>\n",
       "      <td>2022-01-20</td>\n",
       "      <td>0.1027</td>\n",
       "      <td>0.046</td>\n",
       "      <td>0.000</td>\n",
       "      <td>0.954</td>\n",
       "      <td>Crypto.com loses $34 million in hack that affe...</td>\n",
       "      <td>[interview, bloomberg, tv, cryptocoms, chief, ...</td>\n",
       "    </tr>\n",
       "    <tr>\n",
       "      <th>2</th>\n",
       "      <td>online thieves made off with \"wrapped ethereum...</td>\n",
       "      <td>Blockchain platform Wormhole says it's retriev...</td>\n",
       "      <td>2022-02-03</td>\n",
       "      <td>0.1027</td>\n",
       "      <td>0.131</td>\n",
       "      <td>0.092</td>\n",
       "      <td>0.778</td>\n",
       "      <td>Blockchain platform Wormhole says it's retriev...</td>\n",
       "      <td>[online, thief, made, wrapped, ethereum, worth...</td>\n",
       "    </tr>\n",
       "    <tr>\n",
       "      <th>3</th>\n",
       "      <td>online thieves made off with 120,000 weth, or ...</td>\n",
       "      <td>Hacker steals over $320M from blockchain platf...</td>\n",
       "      <td>2022-02-03</td>\n",
       "      <td>-0.6808</td>\n",
       "      <td>0.051</td>\n",
       "      <td>0.174</td>\n",
       "      <td>0.775</td>\n",
       "      <td>Hacker steals over $320M from blockchain platf...</td>\n",
       "      <td>[online, thief, made, weth, wrapped, ethereum,...</td>\n",
       "    </tr>\n",
       "    <tr>\n",
       "      <th>4</th>\n",
       "      <td>the crypto market's whiplash volatility can ma...</td>\n",
       "      <td>Crypto Exchange Shuts Down Withdrawals After H...</td>\n",
       "      <td>2022-01-19</td>\n",
       "      <td>0.5574</td>\n",
       "      <td>0.129</td>\n",
       "      <td>0.000</td>\n",
       "      <td>0.871</td>\n",
       "      <td>Crypto Exchange Shuts Down Withdrawals After H...</td>\n",
       "      <td>[crypto, market, whiplash, volatilitycan, make...</td>\n",
       "    </tr>\n",
       "  </tbody>\n",
       "</table>\n",
       "</div>"
      ],
      "text/plain": [
       "                                                Text  \\\n",
       "0  in a new blog post the company said that 4,836...   \n",
       "1  in an interview with bloomberg tv, crypto.com'...   \n",
       "2  online thieves made off with \"wrapped ethereum...   \n",
       "3  online thieves made off with 120,000 weth, or ...   \n",
       "4  the crypto market's whiplash volatility can ma...   \n",
       "\n",
       "                                       Title Ehterum        Date  Compound  \\\n",
       "0  Crypto.com admits over $30 million stolen by h...  2022-01-20    0.0000   \n",
       "1  Crypto.com loses $34 million in hack that affe...  2022-01-20    0.1027   \n",
       "2  Blockchain platform Wormhole says it's retriev...  2022-02-03    0.1027   \n",
       "3  Hacker steals over $320M from blockchain platf...  2022-02-03   -0.6808   \n",
       "4  Crypto Exchange Shuts Down Withdrawals After H...  2022-01-19    0.5574   \n",
       "\n",
       "   Positive  Negative  Neutral  \\\n",
       "0     0.000     0.000    1.000   \n",
       "1     0.046     0.000    0.954   \n",
       "2     0.131     0.092    0.778   \n",
       "3     0.051     0.174    0.775   \n",
       "4     0.129     0.000    0.871   \n",
       "\n",
       "                                               Title  \\\n",
       "0  Crypto.com admits over $30 million stolen by h...   \n",
       "1  Crypto.com loses $34 million in hack that affe...   \n",
       "2  Blockchain platform Wormhole says it's retriev...   \n",
       "3  Hacker steals over $320M from blockchain platf...   \n",
       "4  Crypto Exchange Shuts Down Withdrawals After H...   \n",
       "\n",
       "                                              Tokens  \n",
       "0  [new, blog, post, company, said, eth, bitcoin,...  \n",
       "1  [interview, bloomberg, tv, cryptocoms, chief, ...  \n",
       "2  [online, thief, made, wrapped, ethereum, worth...  \n",
       "3  [online, thief, made, weth, wrapped, ethereum,...  \n",
       "4  [crypto, market, whiplash, volatilitycan, make...  "
      ]
     },
     "execution_count": 14,
     "metadata": {},
     "output_type": "execute_result"
    }
   ],
   "source": [
    "# Create a new tokens column for Ethereum\n",
    "# Copy the Ethereum DF ready to add Tokens new column\n",
    "ethereum_tokens_df = ethereum_df.copy()\n",
    "\n",
    "# Create empty tokenized list\n",
    "tokenized = []\n",
    "\n",
    "# Tokenize the \"Text\" column for each row of the DataFrame\n",
    "for article in ethereum_tokens_df['Text']:\n",
    "    # Use the tokenizer function to tokenize the article\n",
    "    tokenized_articles = tokenizer(article)\n",
    "    # Append all tokens to the tokenized list of dicts\n",
    "    tokenized.append({'tokens':tokenized_articles})\n",
    "\n",
    "# Create DataFrame of tokens for each article\n",
    "tokens_df= pd.DataFrame(tokenized)\n",
    "\n",
    "# Combine the Tokens dataframe with the original\n",
    "ethereum_tokens_df['Tokens'] = tokens_df\n",
    "\n",
    "# Inspect the DataFrame\n",
    "ethereum_tokens_df.head()"
   ]
  },
  {
   "cell_type": "markdown",
   "metadata": {},
   "source": [
    "---"
   ]
  },
  {
   "cell_type": "markdown",
   "metadata": {},
   "source": [
    "### NGrams and Frequency Analysis\n",
    "\n",
    "In this section you will look at the ngrams and word frequency for each coin. \n",
    "\n",
    "1. Use NLTK to produce the n-grams for N = 2. \n",
    "2. List the top 10 words for each coin. "
   ]
  },
  {
   "cell_type": "code",
   "execution_count": 15,
   "metadata": {},
   "outputs": [
    {
     "name": "stdout",
     "output_type": "stream",
     "text": [
      "{('bitcoin', 'slumped'): 1, ('slumped', 'wednesday'): 1, ('wednesday', 'thursdayjirapong'): 1, ('thursdayjirapong', 'manustronggetty'): 1, ('manustronggetty', 'imagesbitcoin'): 1, ('imagesbitcoin', 'wa'): 1, ('wa', 'thursday'): 1, ('thursday', 'cryptocurrency'): 1, ('cryptocurrency', 'market'): 1, ('market', 'wa'): 1, ('wa', 'sea'): 1, ('sea', 'red'): 1, ('red', 'minute'): 1, ('minute', 'revealed'): 1, ('revealed', 'federa'): 1}\n"
     ]
    }
   ],
   "source": [
    "# Generate the Bitcoin N-grams where N=2\n",
    "bitcoin_bigrams = [Counter(ngrams(tokens, n=2)) for tokens in bitcoin_tokens_df[\"Tokens\"]]\n",
    "\n",
    "# Print Bigrams dict for fifth article for inspection \n",
    "print(dict(bitcoin_bigrams[5]))"
   ]
  },
  {
   "cell_type": "code",
   "execution_count": 16,
   "metadata": {},
   "outputs": [
    {
     "name": "stdout",
     "output_type": "stream",
     "text": [
      "{('bug', 'appears'): 1, ('appears', 'present'): 1, ('present', 'week'): 1, ('week', 'seems'): 1, ('seems', 'referenced'): 1, ('referenced', 'least'): 1, ('least', 'one'): 1, ('one', 'tweet'): 1, ('tweet', 'january'): 1, ('january', 'st'): 1, ('st', 'exploitation'): 1, ('exploitation', 'bug'): 1, ('bug', 'picked'): 1, ('picked', 'significantly'): 1, ('significantly', 'past'): 1, ('past', 'day'): 1, ('day', 'blockc'): 1}\n"
     ]
    }
   ],
   "source": [
    "# Generate the Ethereum N-grams where N=2\n",
    "ethereum_bigrams = [Counter(ngrams(tokens, n=2)) for tokens in ethereum_tokens_df[\"Tokens\"]]\n",
    "\n",
    "# Print Bigrams dict for fifth article for inspection \n",
    "print(dict(ethereum_bigrams[5]))"
   ]
  },
  {
   "cell_type": "code",
   "execution_count": 17,
   "metadata": {},
   "outputs": [],
   "source": [
    "# Function token_count generates the top 10 words for a given coin\n",
    "def token_count(tokens, N=10):\n",
    "    \"\"\"Returns the top N tokens from the frequency count\"\"\"\n",
    "    return Counter(tokens).most_common(N)"
   ]
  },
  {
   "cell_type": "code",
   "execution_count": 18,
   "metadata": {},
   "outputs": [
    {
     "data": {
      "text/plain": [
       "[('bitcoin', 85),\n",
       " ('market', 26),\n",
       " ('btc', 26),\n",
       " ('crypto', 25),\n",
       " ('wa', 22),\n",
       " ('cryptocurrency', 21),\n",
       " ('price', 17),\n",
       " ('mining', 12),\n",
       " ('first', 12),\n",
       " ('last', 11)]"
      ]
     },
     "execution_count": 18,
     "metadata": {},
     "output_type": "execute_result"
    }
   ],
   "source": [
    "# Use token_count to get the top 10 words for Bitcoin\n",
    "# Create empty list which will hold tokens fron all articles \n",
    "all_tokens = []\n",
    "\n",
    "# Loop through tokens from all articles and add into all_tokens list\n",
    "for tokens in bitcoin_tokens_df[\"Tokens\"]:\n",
    "    all_tokens += tokens\n",
    "\n",
    "# Create the token_count function to retun the top 10 words and counts  \n",
    "bitcoin_top10_words = token_count(all_tokens)\n",
    "bitcoin_top10_words"
   ]
  },
  {
   "cell_type": "code",
   "execution_count": 19,
   "metadata": {},
   "outputs": [
    {
     "data": {
      "text/plain": [
       "[('ethereum', 34),\n",
       " ('cryptocurrency', 29),\n",
       " ('crypto', 19),\n",
       " ('eth', 17),\n",
       " ('market', 17),\n",
       " ('wa', 16),\n",
       " ('bitcoin', 15),\n",
       " ('one', 15),\n",
       " ('million', 13),\n",
       " ('blockchain', 13)]"
      ]
     },
     "execution_count": 19,
     "metadata": {},
     "output_type": "execute_result"
    }
   ],
   "source": [
    "# Use token_count to get the top 10 words for Ethereum\n",
    "# Create empty list which will hold tokens fron all articles \n",
    "all_tokens = []\n",
    "\n",
    "# Loop through tokens from all articles and add into all_tokens list\n",
    "for tokens in ethereum_tokens_df[\"Tokens\"]:\n",
    "    all_tokens += tokens\n",
    "\n",
    "# Create the token_count function to retun the top 10 words and counts  \n",
    "ethereum_top10_words = token_count(all_tokens)\n",
    "ethereum_top10_words"
   ]
  },
  {
   "cell_type": "markdown",
   "metadata": {},
   "source": [
    "---"
   ]
  },
  {
   "cell_type": "markdown",
   "metadata": {
    "tags": []
   },
   "source": [
    "### Word Clouds\n",
    "\n",
    "In this section, you will generate word clouds for each coin to summarize the news for each coin"
   ]
  },
  {
   "cell_type": "code",
   "execution_count": 20,
   "metadata": {},
   "outputs": [],
   "source": [
    "from wordcloud import WordCloud\n",
    "import matplotlib.pyplot as plt\n",
    "plt.style.use('seaborn-whitegrid')\n",
    "import matplotlib as mpl\n",
    "mpl.rcParams['figure.figsize'] = [20.0, 10.0]"
   ]
  },
  {
   "cell_type": "code",
   "execution_count": 21,
   "metadata": {},
   "outputs": [
    {
     "ename": "NameError",
     "evalue": "name 'corpus' is not defined",
     "output_type": "error",
     "traceback": [
      "\u001b[1;31m---------------------------------------------------------------------------\u001b[0m",
      "\u001b[1;31mNameError\u001b[0m                                 Traceback (most recent call last)",
      "\u001b[1;32m~\\AppData\\Local\\Temp/ipykernel_5756/589872958.py\u001b[0m in \u001b[0;36m<module>\u001b[1;34m\u001b[0m\n\u001b[0;32m      1\u001b[0m \u001b[1;31m# Generate the Bitcoin word cloud\u001b[0m\u001b[1;33m\u001b[0m\u001b[1;33m\u001b[0m\u001b[1;33m\u001b[0m\u001b[0m\n\u001b[1;32m----> 2\u001b[1;33m \u001b[0mbig_string\u001b[0m \u001b[1;33m=\u001b[0m \u001b[1;34m' '\u001b[0m\u001b[1;33m.\u001b[0m\u001b[0mjoin\u001b[0m\u001b[1;33m(\u001b[0m\u001b[0mcorpus\u001b[0m\u001b[1;33m)\u001b[0m\u001b[1;33m\u001b[0m\u001b[1;33m\u001b[0m\u001b[0m\n\u001b[0m\u001b[0;32m      3\u001b[0m \u001b[0minput_text\u001b[0m \u001b[1;33m=\u001b[0m \u001b[0mprocess_text\u001b[0m\u001b[1;33m(\u001b[0m\u001b[0mbig_string\u001b[0m\u001b[1;33m)\u001b[0m\u001b[1;33m\u001b[0m\u001b[1;33m\u001b[0m\u001b[0m\n\u001b[0;32m      4\u001b[0m \u001b[1;33m\u001b[0m\u001b[0m\n\u001b[0;32m      5\u001b[0m \u001b[0mwc\u001b[0m \u001b[1;33m=\u001b[0m \u001b[0mWordCloud\u001b[0m\u001b[1;33m(\u001b[0m\u001b[1;33m)\u001b[0m\u001b[1;33m.\u001b[0m\u001b[0mgenerate\u001b[0m\u001b[1;33m(\u001b[0m\u001b[0minput_text\u001b[0m\u001b[1;33m)\u001b[0m\u001b[1;33m\u001b[0m\u001b[1;33m\u001b[0m\u001b[0m\n",
      "\u001b[1;31mNameError\u001b[0m: name 'corpus' is not defined"
     ]
    }
   ],
   "source": [
    "# Generate the Bitcoin word cloud\n",
    "big_string = ' '.join(corpus)\n",
    "input_text = process_text(big_string)\n",
    "\n",
    "wc = WordCloud().generate(input_text)\n",
    "plt.imshow(wc)"
   ]
  },
  {
   "cell_type": "code",
   "execution_count": null,
   "metadata": {},
   "outputs": [],
   "source": [
    "# Generate the Ethereum word cloud\n",
    "# YOUR CODE HERE!"
   ]
  },
  {
   "cell_type": "markdown",
   "metadata": {},
   "source": [
    "---\n",
    "## 3. Named Entity Recognition\n",
    "\n",
    "In this section, you will build a named entity recognition model for both Bitcoin and Ethereum, then visualize the tags using SpaCy."
   ]
  },
  {
   "cell_type": "code",
   "execution_count": null,
   "metadata": {},
   "outputs": [],
   "source": [
    "import spacy\n",
    "from spacy import displacy"
   ]
  },
  {
   "cell_type": "code",
   "execution_count": null,
   "metadata": {},
   "outputs": [],
   "source": [
    "# Download the language model for SpaCy\n",
    "# !python -m spacy download en_core_web_sm"
   ]
  },
  {
   "cell_type": "code",
   "execution_count": null,
   "metadata": {},
   "outputs": [],
   "source": [
    "# Load the spaCy model\n",
    "nlp = spacy.load('en_core_web_sm')"
   ]
  },
  {
   "cell_type": "markdown",
   "metadata": {},
   "source": [
    "---\n",
    "### Bitcoin NER"
   ]
  },
  {
   "cell_type": "code",
   "execution_count": null,
   "metadata": {},
   "outputs": [],
   "source": [
    "# Concatenate all of the Bitcoin text together\n",
    "# YOUR CODE HERE!"
   ]
  },
  {
   "cell_type": "code",
   "execution_count": null,
   "metadata": {},
   "outputs": [],
   "source": [
    "# Run the NER processor on all of the text\n",
    "# YOUR CODE HERE!\n",
    "\n",
    "# Add a title to the document\n",
    "# YOUR CODE HERE!"
   ]
  },
  {
   "cell_type": "code",
   "execution_count": null,
   "metadata": {},
   "outputs": [],
   "source": [
    "# Render the visualization\n",
    "# YOUR CODE HERE!"
   ]
  },
  {
   "cell_type": "code",
   "execution_count": null,
   "metadata": {},
   "outputs": [],
   "source": [
    "# List all Entities\n",
    "# YOUR CODE HERE!"
   ]
  },
  {
   "cell_type": "markdown",
   "metadata": {},
   "source": [
    "---"
   ]
  },
  {
   "cell_type": "markdown",
   "metadata": {},
   "source": [
    "### Ethereum NER"
   ]
  },
  {
   "cell_type": "code",
   "execution_count": null,
   "metadata": {},
   "outputs": [],
   "source": [
    "# Concatenate all of the Ethereum text together\n",
    "# YOUR CODE HERE!"
   ]
  },
  {
   "cell_type": "code",
   "execution_count": null,
   "metadata": {},
   "outputs": [],
   "source": [
    "# Run the NER processor on all of the text\n",
    "# YOUR CODE HERE!\n",
    "\n",
    "# Add a title to the document\n",
    "# YOUR CODE HERE!"
   ]
  },
  {
   "cell_type": "code",
   "execution_count": null,
   "metadata": {},
   "outputs": [],
   "source": [
    "# Render the visualization\n",
    "# YOUR CODE HERE!"
   ]
  },
  {
   "cell_type": "code",
   "execution_count": null,
   "metadata": {},
   "outputs": [],
   "source": [
    "# List all Entities\n",
    "# YOUR CODE HERE!"
   ]
  },
  {
   "cell_type": "markdown",
   "metadata": {},
   "source": [
    "---"
   ]
  }
 ],
 "metadata": {
  "file_extension": ".py",
  "kernelspec": {
   "display_name": "Python 3 (ipykernel)",
   "language": "python",
   "name": "python3"
  },
  "language_info": {
   "codemirror_mode": {
    "name": "ipython",
    "version": 3
   },
   "file_extension": ".py",
   "mimetype": "text/x-python",
   "name": "python",
   "nbconvert_exporter": "python",
   "pygments_lexer": "ipython3",
   "version": "3.7.11"
  },
  "mimetype": "text/x-python",
  "name": "python",
  "npconvert_exporter": "python",
  "pygments_lexer": "ipython3",
  "version": 3
 },
 "nbformat": 4,
 "nbformat_minor": 4
}
